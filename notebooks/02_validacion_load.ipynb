{
 "cells": [
  {
   "cell_type": "code",
   "execution_count": 5,
   "id": "c2e52245",
   "metadata": {},
   "outputs": [
    {
     "name": "stdout",
     "output_type": "stream",
     "text": [
      "DB_PATH: c:\\Users\\sr031\\Documents\\ambiente-etl-cdmx\\data\\db\\ambiente.db\n",
      "DB_URL: sqlite:///C:/Users/sr031/Documents/ambiente-etl-cdmx/data/db/ambiente.db\n",
      "🚀 Iniciando prueba de carga...\n",
      "✅ Datos insertados en la tabla 'calidad_aire'\n",
      "📂 Datos exportados a: c:\\Users\\sr031\\Documents\\ambiente-etl-cdmx\\data\\processed\\test_air_quality.csv y c:\\Users\\sr031\\Documents\\ambiente-etl-cdmx\\data\\processed\\test_air_quality.parquet\n",
      "✅ Prueba completada.\n"
     ]
    }
   ],
   "source": [
    "# === Configuración inicial ===\n",
    "import sys, os\n",
    "\n",
    "# Agregamos la carpeta raíz del proyecto al sys.path\n",
    "# Esto permite que Jupyter Notebook pueda importar el paquete \"etl\"\n",
    "# incluso cuando se ejecuta desde notebooks/\n",
    "sys.path.append(os.path.abspath(\"..\"))\n",
    "\n",
    "# === Importaciones necesarias ===\n",
    "import pandas as pd\n",
    "from etl.load import guardar_en_sql, exportar_csv_parquet, init_db  # Funciones del módulo load\n",
    "from etl.config import DB_PATH, DB_URL  # Rutas y configuración desde config.py\n",
    "\n",
    "# Mostrar las rutas de la base de datos para verificar\n",
    "print(\"DB_PATH:\", DB_PATH)\n",
    "print(\"DB_URL:\", DB_URL)\n",
    "\n",
    "# === Crear un DataFrame de prueba ===\n",
    "# Simula un registro de calidad del aire en CDMX\n",
    "df_prueba = pd.DataFrame([{\n",
    "    \"ciudad\": \"CDMX\",                # Ciudad fija\n",
    "    \"aqi\": 75,                       # Índice de calidad del aire\n",
    "    \"temperatura\": 22.5,             # Temperatura en °C\n",
    "    \"humedad\": 55,                   # Humedad relativa %\n",
    "    \"fecha\": \"2025-09-01 12:00:00\"   # Fecha simulada\n",
    "}])\n",
    "\n",
    "print(\"🚀 Iniciando prueba de carga...\")\n",
    "\n",
    "# === Guardar en SQL ===\n",
    "# Inserta el DataFrame en la tabla \"calidad_aire\" de SQLite\n",
    "guardar_en_sql(df_prueba, tabla=\"calidad_aire\")\n",
    "\n",
    "# === Exportar a CSV y Parquet ===\n",
    "# Crea archivos de respaldo en la carpeta data/processed/\n",
    "exportar_csv_parquet(df_prueba, nombre=\"test_air_quality\")\n",
    "\n",
    "print(\"✅ Prueba completada.\")\n"
   ]
  }
 ],
 "metadata": {
  "kernelspec": {
   "display_name": "venv",
   "language": "python",
   "name": "python3"
  },
  "language_info": {
   "codemirror_mode": {
    "name": "ipython",
    "version": 3
   },
   "file_extension": ".py",
   "mimetype": "text/x-python",
   "name": "python",
   "nbconvert_exporter": "python",
   "pygments_lexer": "ipython3",
   "version": "3.13.6"
  }
 },
 "nbformat": 4,
 "nbformat_minor": 5
}
