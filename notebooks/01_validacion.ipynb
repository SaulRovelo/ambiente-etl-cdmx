{
 "cells": [
  {
   "cell_type": "code",
   "execution_count": 1,
   "id": "3261fb29",
   "metadata": {},
   "outputs": [
    {
     "name": "stdout",
     "output_type": "stream",
     "text": [
      "RAW_PATH: c:\\Users\\sr031\\Documents\\ambiente-etl-cdmx\\data\\raw\n",
      "PROCESSED_PATH: c:\\Users\\sr031\\Documents\\ambiente-etl-cdmx\\data\\processed\n",
      "DB_PATH: c:\\Users\\sr031\\Documents\\ambiente-etl-cdmx\\data\\db\\ambiente.db\n",
      "DB_URL: sqlite:///data/db/ambiente.db\n",
      "📂 Usando archivo crudo: c:\\Users\\sr031\\Documents\\ambiente-etl-cdmx\\data\\raw\\air_quality_20250901_155713.json\n",
      "✅ Datos procesados guardados en:\n",
      "- c:\\Users\\sr031\\Documents\\ambiente-etl-cdmx\\data\\processed\\calidad_aire_20250902_004744.csv\n",
      "- c:\\Users\\sr031\\Documents\\ambiente-etl-cdmx\\data\\processed\\calidad_aire_20250902_004744.parquet\n"
     ]
    },
    {
     "data": {
      "text/html": [
       "<div>\n",
       "<style scoped>\n",
       "    .dataframe tbody tr th:only-of-type {\n",
       "        vertical-align: middle;\n",
       "    }\n",
       "\n",
       "    .dataframe tbody tr th {\n",
       "        vertical-align: top;\n",
       "    }\n",
       "\n",
       "    .dataframe thead th {\n",
       "        text-align: right;\n",
       "    }\n",
       "</style>\n",
       "<table border=\"1\" class=\"dataframe\">\n",
       "  <thead>\n",
       "    <tr style=\"text-align: right;\">\n",
       "      <th></th>\n",
       "      <th>ciudad</th>\n",
       "      <th>pais</th>\n",
       "      <th>fecha_hora</th>\n",
       "      <th>aqi_us</th>\n",
       "      <th>aqi_cn</th>\n",
       "      <th>contaminante_principal</th>\n",
       "      <th>temperatura_c</th>\n",
       "      <th>humedad_pct</th>\n",
       "      <th>viento_mps</th>\n",
       "    </tr>\n",
       "  </thead>\n",
       "  <tbody>\n",
       "    <tr>\n",
       "      <th>0</th>\n",
       "      <td>Mexico City</td>\n",
       "      <td>Mexico</td>\n",
       "      <td>2025-09-01 21:00:00+00:00</td>\n",
       "      <td>29</td>\n",
       "      <td>22</td>\n",
       "      <td>o3</td>\n",
       "      <td>22</td>\n",
       "      <td>53</td>\n",
       "      <td>1.68</td>\n",
       "    </tr>\n",
       "  </tbody>\n",
       "</table>\n",
       "</div>"
      ],
      "text/plain": [
       "        ciudad    pais                fecha_hora  aqi_us  aqi_cn  \\\n",
       "0  Mexico City  Mexico 2025-09-01 21:00:00+00:00      29      22   \n",
       "\n",
       "  contaminante_principal  temperatura_c  humedad_pct  viento_mps  \n",
       "0                     o3             22           53        1.68  "
      ]
     },
     "execution_count": 1,
     "metadata": {},
     "output_type": "execute_result"
    }
   ],
   "source": [
    "import sys, os, glob\n",
    "\n",
    "# 1) Asegurar que Python pueda encontrar el paquete etl/\n",
    "sys.path.append(os.path.abspath(\"..\"))\n",
    "\n",
    "# 2) Importar funciones del módulo transform y rutas absolutas desde config\n",
    "from etl.transform import (\n",
    "    cargar_datos_crudos,\n",
    "    transformar_datos,\n",
    "    limpiar_y_validar,\n",
    "    guardar_datos_procesados,\n",
    ")\n",
    "from etl.config import RAW_PATH\n",
    "\n",
    "# 3) Buscar el archivo crudo más reciente en RAW_PATH\n",
    "archivos = glob.glob(os.path.join(RAW_PATH, \"air_quality_*.json\"))\n",
    "if not archivos:\n",
    "    raise FileNotFoundError(\"⚠️ No hay archivos en data/raw/. Ejecuta primero extract.py\")\n",
    "\n",
    "ultimo = max(archivos, key=os.path.getctime)\n",
    "print(\"📂 Usando archivo crudo:\", ultimo)\n",
    "\n",
    "# 4) Flujo de transformación\n",
    "datos = cargar_datos_crudos(ultimo)   # Cargar JSON crudo\n",
    "df = transformar_datos(datos)         # Transformar a DataFrame\n",
    "df_limpio = limpiar_y_validar(df)     # Limpiar y validar\n",
    "\n",
    "# 5) Guardar en PROCESSED_PATH (ruta absoluta, nunca más en notebooks/data)\n",
    "guardar_datos_procesados(df_limpio)\n",
    "\n",
    "# 6) Mostrar resultado en notebook\n",
    "df_limpio\n"
   ]
  }
 ],
 "metadata": {
  "kernelspec": {
   "display_name": "venv",
   "language": "python",
   "name": "python3"
  },
  "language_info": {
   "codemirror_mode": {
    "name": "ipython",
    "version": 3
   },
   "file_extension": ".py",
   "mimetype": "text/x-python",
   "name": "python",
   "nbconvert_exporter": "python",
   "pygments_lexer": "ipython3",
   "version": "3.13.6"
  }
 },
 "nbformat": 4,
 "nbformat_minor": 5
}
